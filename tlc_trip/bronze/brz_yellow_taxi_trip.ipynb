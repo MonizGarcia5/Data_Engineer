{
 "cells": [
  {
   "cell_type": "markdown",
   "metadata": {
    "application/vnd.databricks.v1+cell": {
     "cellMetadata": {
      "byteLimit": 2048000,
      "rowLimit": 10000
     },
     "inputWidgets": {},
     "nuid": "cd5967db-3680-42ef-95ee-7804e92a0417",
     "showTitle": false,
     "tableResultSettingsMap": {},
     "title": ""
    }
   },
   "source": [
    "##Carga dados Yellow Taxi Trip - Camada Bronze"
   ]
  },
  {
   "cell_type": "code",
   "execution_count": 0,
   "metadata": {
    "application/vnd.databricks.v1+cell": {
     "cellMetadata": {
      "byteLimit": 2048000,
      "rowLimit": 10000
     },
     "inputWidgets": {},
     "nuid": "97666dc1-fa59-45e7-bcbc-3b4c1223cb2a",
     "showTitle": false,
     "tableResultSettingsMap": {},
     "title": ""
    }
   },
   "outputs": [],
   "source": [
    "import requests\n",
    "from pyspark.sql import SparkSession\n",
    "\n",
    "# \uD83D\uDD39 Cria a sessão Spark\n",
    "spark = SparkSession.builder.getOrCreate()\n",
    "\n",
    "# \uD83D\uDD39 Criar catálogo e schema se não existirem na camada bronze\n",
    "spark.sql(\"CREATE CATALOG IF NOT EXISTS tlc_trip\")\n",
    "spark.sql(\"CREATE SCHEMA IF NOT EXISTS tlc_trip.bronze\")\n",
    "\n",
    "# \uD83D\uDD39 ID do dataset \"Yellow Taxi Trip Data\" (2023) no NYC Open Data\n",
    "dataset_id = \"4b4i-vvec\"\n",
    "\n",
    "# \uD83D\uDD39 URL base da API SODA do Socrata\n",
    "base_url = f\"https://data.cityofnewyork.us/resource/{dataset_id}.json\"\n",
    "\n",
    "# \uD83D\uDD39 Filtro de data (apenas viagens de março/2023)\n",
    "# Usando a sintaxe SoQL no parâmetro \"$where\"\n",
    "where_clause = \"tpep_pickup_datetime between '2023-01-01T00:00:00' and '2023-04-30T23:59:59'\"\n",
    "\n",
    "# \uD83D\uDD39 Configuração de paginação\n",
    "limit = 50000   # máximo de registros por requisição (Socrata aceita até 50k)\n",
    "offset = 0      # posição inicial para buscar os dados\n",
    "\n",
    "# Lista para acumular DataFrames parciais\n",
    "all_dfs = []\n",
    "\n",
    "# \uD83D\uDD04 Loop de paginação até trazer todos os registros\n",
    "while True:\n",
    "    # Parâmetros da requisição para a API\n",
    "    params = {\n",
    "        \"$where\": where_clause,  # filtro de data\n",
    "        \"$limit\": limit,         # quantidade de registros por requisição\n",
    "        \"$offset\": offset        # deslocamento para próxima página\n",
    "    }\n",
    "    \n",
    "    print(f\"\uD83D\uDD04 Baixando registros {offset} até {offset + limit} ...\")\n",
    "    \n",
    "    # Faz a requisição HTTP GET\n",
    "    response = requests.get(base_url, params=params)\n",
    "    \n",
    "    # Converte o retorno JSON para objeto Python\n",
    "    data = response.json()\n",
    "    \n",
    "    # Se não houver mais dados, encerra o loop\n",
    "    if not data:\n",
    "        break\n",
    "    \n",
    "    # Converte lista de dicionários para DataFrame Spark\n",
    "    df_temp = spark.createDataFrame(data)\n",
    "    \n",
    "    # Adiciona o DataFrame parcial à lista\n",
    "    all_dfs.append(df_temp)\n",
    "    \n",
    "    # Avança para próxima \"página\" de registros\n",
    "    offset += limit\n",
    "\n",
    "# \uD83D\uDD39 Une todos os DataFrames em um único\n",
    "if all_dfs:\n",
    "    # Começa com o primeiro DataFrame\n",
    "    df_final = all_dfs[0]\n",
    "    \n",
    "    # Faz união com os demais DataFrames (por nome de coluna)\n",
    "    for df in all_dfs[1:]:\n",
    "        df_final = df_final.unionByName(df)\n",
    "    \n",
    "    # Mostra o total de registros carregados\n",
    "    print(f\"✅ Total de registros carregados: {df_final.count()}\")\n",
    "\n",
    "# Salvar a camada Bronze unificada\n",
    "df_final.write.format(\"delta\") \\\n",
    "    .mode(\"overwrite\") \\\n",
    "    .saveAsTable(\"tlc_trip.bronze.yellow_taxi_trip\")\n"
   ]
  }
 ],
 "metadata": {
  "application/vnd.databricks.v1+notebook": {
   "computePreferences": null,
   "dashboards": [],
   "environmentMetadata": {
    "base_environment": "",
    "environment_version": "2"
   },
   "inputWidgetPreferences": null,
   "language": "python",
   "notebookMetadata": {
    "pythonIndentUnit": 4
   },
   "notebookName": "brz_yellow_taxi_trip",
   "widgets": {}
  },
  "language_info": {
   "name": "python"
  }
 },
 "nbformat": 4,
 "nbformat_minor": 0
}