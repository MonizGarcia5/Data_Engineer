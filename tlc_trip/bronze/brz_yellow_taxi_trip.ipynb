{
 "cells": [
  {
   "cell_type": "markdown",
   "metadata": {
    "application/vnd.databricks.v1+cell": {
     "cellMetadata": {
      "byteLimit": 2048000,
      "rowLimit": 10000
     },
     "inputWidgets": {},
     "nuid": "cd5967db-3680-42ef-95ee-7804e92a0417",
     "showTitle": false,
     "tableResultSettingsMap": {},
     "title": ""
    }
   },
   "source": [
    "##Carga dados Yellow Taxi Trip - Camada Bronze"
   ]
  },
  {
   "cell_type": "code",
   "execution_count": 0,
   "metadata": {
    "application/vnd.databricks.v1+cell": {
     "cellMetadata": {
      "byteLimit": 2048000,
      "rowLimit": 10000
     },
     "inputWidgets": {},
     "nuid": "97666dc1-fa59-45e7-bcbc-3b4c1223cb2a",
     "showTitle": false,
     "tableResultSettingsMap": {},
     "title": ""
    }
   },
   "outputs": [
    {
     "output_type": "stream",
     "name": "stdout",
     "output_type": "stream",
     "text": [
      "\uD83D\uDD04 Baixando registros 0 até 50000 ...\n\uD83D\uDD04 Baixando registros 50000 até 100000 ...\n\uD83D\uDD04 Baixando registros 100000 até 150000 ...\n\uD83D\uDD04 Baixando registros 150000 até 200000 ...\n\uD83D\uDD04 Baixando registros 200000 até 250000 ...\n\uD83D\uDD04 Baixando registros 250000 até 300000 ...\n\uD83D\uDD04 Baixando registros 300000 até 350000 ...\n\uD83D\uDD04 Baixando registros 350000 até 400000 ...\n\uD83D\uDD04 Baixando registros 400000 até 450000 ...\n\uD83D\uDD04 Baixando registros 450000 até 500000 ...\n\uD83D\uDD04 Baixando registros 500000 até 550000 ...\n\uD83D\uDD04 Baixando registros 550000 até 600000 ...\n\uD83D\uDD04 Baixando registros 600000 até 650000 ...\n\uD83D\uDD04 Baixando registros 650000 até 700000 ...\n\uD83D\uDD04 Baixando registros 700000 até 750000 ...\n\uD83D\uDD04 Baixando registros 750000 até 800000 ...\n\uD83D\uDD04 Baixando registros 800000 até 850000 ...\n\uD83D\uDD04 Baixando registros 850000 até 900000 ...\n\uD83D\uDD04 Baixando registros 900000 até 950000 ...\n\uD83D\uDD04 Baixando registros 950000 até 1000000 ...\n\uD83D\uDD04 Baixando registros 1000000 até 1050000 ...\n\uD83D\uDD04 Baixando registros 1050000 até 1100000 ...\n\uD83D\uDD04 Baixando registros 1100000 até 1150000 ...\n\uD83D\uDD04 Baixando registros 1150000 até 1200000 ...\n\uD83D\uDD04 Baixando registros 1200000 até 1250000 ...\n\uD83D\uDD04 Baixando registros 1250000 até 1300000 ...\n\uD83D\uDD04 Baixando registros 1300000 até 1350000 ...\n\uD83D\uDD04 Baixando registros 1350000 até 1400000 ...\n\uD83D\uDD04 Baixando registros 1400000 até 1450000 ...\n\uD83D\uDD04 Baixando registros 1450000 até 1500000 ...\n✅ Total de registros carregados: 1440391\n"
     ]
    }
   ],
   "source": [
    "import requests\n",
    "from pyspark.sql import SparkSession\n",
    "\n",
    "# \uD83D\uDD39 Cria a sessão Spark\n",
    "\n",
    "spark = SparkSession.builder.getOrCreate()\n",
    "\n",
    "# \uD83D\uDD39 Criar catálogo e schema se não existirem na camada bronze\n",
    "spark.sql(\"CREATE CATALOG IF NOT EXISTS tlc_trip\")\n",
    "spark.sql(\"CREATE SCHEMA IF NOT EXISTS tlc_trip.bronze\")\n",
    "\n",
    "# \uD83D\uDD39 ID do dataset \"Yellow Taxi Trip Data\" (2023) no NYC Open Data\n",
    "dataset_id = \"4b4i-vvec\"\n",
    "\n",
    "# \uD83D\uDD39 URL base da API SODA do Socrata\n",
    "base_url = f\"https://data.cityofnewyork.us/resource/{dataset_id}.json\"\n",
    "\n",
    "# \uD83D\uDD39 Filtro de data (apenas viagens de março/2023)\n",
    "# Usando a sintaxe SoQL no parâmetro \"$where\"\n",
    "where_clause = \"tpep_pickup_datetime between '2023-01-01T00:00:00' and '2023-04-30T23:59:59'\"\n",
    "\n",
    "# \uD83D\uDD39 Configuração de paginação\n",
    "limit = 50000   # máximo de registros por requisição (Socrata aceita até 50k)\n",
    "offset = 0      # posição inicial para buscar os dados\n",
    "\n",
    "# Lista para acumular DataFrames parciais\n",
    "all_dfs = []\n",
    "\n",
    "# \uD83D\uDD04 Loop de paginação até trazer todos os registros\n",
    "while True:\n",
    "    # Parâmetros da requisição para a API\n",
    "    params = {\n",
    "        \"$where\": where_clause,  # filtro de data\n",
    "        \"$limit\": limit,         # quantidade de registros por requisição\n",
    "        \"$offset\": offset        # deslocamento para próxima página\n",
    "    }\n",
    "    \n",
    "    print(f\"\uD83D\uDD04 Baixando registros {offset} até {offset + limit} ...\")\n",
    "    \n",
    "    # Faz a requisição HTTP GET\n",
    "    response = requests.get(base_url, params=params)\n",
    "    \n",
    "    # Converte o retorno JSON para objeto Python\n",
    "    data = response.json()\n",
    "    \n",
    "    # Se não houver mais dados, encerra o loop\n",
    "    if not data:\n",
    "        break\n",
    "    \n",
    "    # Converte lista de dicionários para DataFrame Spark\n",
    "    df_temp = spark.createDataFrame(data)\n",
    "    \n",
    "    # Adiciona o DataFrame parcial à lista\n",
    "    all_dfs.append(df_temp)\n",
    "    \n",
    "    # Avança para próxima \"página\" de registros\n",
    "    offset += limit\n",
    "\n",
    "# \uD83D\uDD39 Une todos os DataFrames em um único\n",
    "if all_dfs:\n",
    "    # Começa com o primeiro DataFrame\n",
    "    df_final = all_dfs[0]\n",
    "    \n",
    "    # Faz união com os demais DataFrames (por nome de coluna)\n",
    "    for df in all_dfs[1:]:\n",
    "        df_final = df_final.unionByName(df)\n",
    "    \n",
    "    # Mostra o total de registros carregados\n",
    "    print(f\"✅ Total de registros carregados: {df_final.count()}\")\n",
    "\n",
    "# Salvar a camada Bronze unificada\n",
    "df_final.write.format(\"delta\") \\\n",
    "    .mode(\"overwrite\") \\\n",
    "    .saveAsTable(\"tlc_trip.bronze.yellow_taxi_trip\")\n"
   ]
  }
 ],
 "metadata": {
  "application/vnd.databricks.v1+notebook": {
   "computePreferences": null,
   "dashboards": [],
   "environmentMetadata": {
    "base_environment": "",
    "environment_version": "2"
   },
   "inputWidgetPreferences": null,
   "language": "python",
   "notebookMetadata": {
    "pythonIndentUnit": 4
   },
   "notebookName": "brz_yellow_taxi_trip",
   "widgets": {}
  },
  "language_info": {
   "name": "python"
  }
 },
 "nbformat": 4,
 "nbformat_minor": 0
}