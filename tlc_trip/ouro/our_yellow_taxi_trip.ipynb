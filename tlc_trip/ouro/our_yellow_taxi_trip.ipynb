{
 "cells": [
  {
   "cell_type": "markdown",
   "metadata": {
    "application/vnd.databricks.v1+cell": {
     "cellMetadata": {
      "byteLimit": 2048000,
      "rowLimit": 10000
     },
     "inputWidgets": {},
     "nuid": "fdfc386d-5626-48de-8584-8ec163d62918",
     "showTitle": false,
     "tableResultSettingsMap": {},
     "title": ""
    }
   },
   "source": [
    "##Carga dados Yellow Taxi Trip - Camada Ouro"
   ]
  },
  {
   "cell_type": "code",
   "execution_count": 0,
   "metadata": {
    "application/vnd.databricks.v1+cell": {
     "cellMetadata": {
      "byteLimit": 2048000,
      "rowLimit": 10000
     },
     "inputWidgets": {},
     "nuid": "dffde938-f555-46e3-9ad3-d7b4b3cac716",
     "showTitle": false,
     "tableResultSettingsMap": {},
     "title": ""
    }
   },
   "outputs": [
    {
     "output_type": "stream",
     "name": "stdout",
     "output_type": "stream",
     "text": [
      "Top 5 dias com maior faturamento:\n+----------+--------------+------------------+------------------+-----------------+------------+-------------+-----------------+\n|       dia|total_corridas|distancia_total_km|distancia_media_km|faturamento_total|ticket_medio|gorjeta_media|passageiros_media|\n+----------+--------------+------------------+------------------+-----------------+------------+-------------+-----------------+\n|2023-01-13|        104151|         362359.65|              3.48|       2939133.09|       28.22|         3.55|              1.4|\n|2023-01-12|        104488|         377819.05|              3.62|       2897619.74|       27.73|         3.49|             1.33|\n|2023-01-14|        106595|         347593.83|              3.26|       2792125.73|       26.19|         3.31|             1.49|\n|2023-01-11|        100190|         316403.89|              3.16|        2645299.9|        26.4|         3.33|             1.33|\n|2023-01-05|         95212|         335986.71|              3.53|       2607302.34|       27.38|         3.29|             1.38|\n+----------+--------------+------------------+------------------+-----------------+------------+-------------+-----------------+\nonly showing top 5 rows\nTop 5 locais de partida (PULocationID) com mais corridas:\n+------------+--------------+-----------------+------------+-------------+------------------+-----------------+\n|PULocationID|total_corridas|faturamento_total|ticket_medio|gorjeta_media|distancia_media_km|passageiros_media|\n+------------+--------------+-----------------+------------+-------------+------------------+-----------------+\n|         132|         79722|       6151186.56|       77.16|         8.52|             15.56|             1.48|\n|         237|         62458|       1224065.59|        19.6|         2.51|              1.82|             1.36|\n|         236|         60147|       1236618.99|       20.56|         2.68|               2.0|             1.37|\n|         161|         57465|        1348783.8|       23.47|         2.96|              2.43|             1.44|\n|         186|         49076|       1140752.67|       23.24|         2.89|              2.37|             1.38|\n+------------+--------------+-----------------+------------+-------------+------------------+-----------------+\nonly showing top 5 rows\nLocais de partida com maior distância média e gorjeta média:\n+------------+--------------+-----------------+------------+-------------+------------------+-----------------+\n|PULocationID|total_corridas|faturamento_total|ticket_medio|gorjeta_media|distancia_media_km|passageiros_media|\n+------------+--------------+-----------------+------------+-------------+------------------+-----------------+\n|         204|             1|             94.2|        94.2|          0.0|              22.8|              1.0|\n|         214|             6|            443.5|       73.92|          0.0|             20.32|              1.0|\n|           5|            30|          2737.87|       91.26|          0.0|             20.05|              1.0|\n|          44|            16|           1093.7|       68.36|          0.0|             20.02|              1.0|\n|          29|            18|          1557.01|        86.5|         3.58|             19.13|              1.0|\n+------------+--------------+-----------------+------------+-------------+------------------+-----------------+\nonly showing top 5 rows\n"
     ]
    }
   ],
   "source": [
    "import requests\n",
    "from pyspark.sql import SparkSession\n",
    "from pyspark.sql.functions import (\n",
    "    col, sum as spark_sum, avg, count, countDistinct, round, \n",
    "    date_format, expr\n",
    ")\n",
    "\n",
    "# \uD83D\uDD39 Cria a sessão Spark\n",
    "spark = SparkSession.builder.getOrCreate()\n",
    "\n",
    "# \uD83D\uDD39 Criar schema se não existirem na camada prata\n",
    "spark.sql(\"CREATE CATALOG IF NOT EXISTS tlc_trip\")\n",
    "spark.sql(\"CREATE SCHEMA IF NOT EXISTS tlc_trip.ouro\")\n",
    "\n",
    "# Carregar dados da camada prata já tratados \n",
    "df_silver = spark.table(\"tlc_trip.prata.yellow_taxi_trip_tratada\")\n",
    "                                 \n",
    "# Tabela Gold: Métricas agregadas por dia ---\n",
    "df_gold_daily = (\n",
    "    df_silver\n",
    "    .withColumn(\"dia\", date_format(col(\"tpep_pickup_datetime\"), \"yyyy-MM-dd\"))\n",
    "    .groupBy(\"dia\")\n",
    "    .agg(\n",
    "        count(\"VendorID\").alias(\"total_corridas\"),\n",
    "        round(spark_sum(\"trip_distance\"), 2).alias(\"distancia_total_km\"),\n",
    "        round(avg(\"trip_distance\"), 2).alias(\"distancia_media_km\"),\n",
    "        round(spark_sum(\"total_amount\"), 2).alias(\"faturamento_total\"),\n",
    "        round(avg(\"total_amount\"), 2).alias(\"ticket_medio\"),\n",
    "        round(avg(\"tip_amount\"), 2).alias(\"gorjeta_media\"),\n",
    "        round(avg(\"passenger_count\"), 2).alias(\"passageiros_media\")\n",
    "    )\n",
    ")\n",
    "\n",
    "df_gold_daily.write.mode(\"overwrite\").saveAsTable(\"tlc_trip.ouro.taxi_metrics_daily\")\n",
    "\n",
    "# Tabela Gold: Métricas por local de partida (PULocationID) ---\n",
    "df_gold_pu_location = (\n",
    "    df_silver\n",
    "    .groupBy(\"PULocationID\")\n",
    "    .agg(\n",
    "        count(\"VendorID\").alias(\"total_corridas\"),\n",
    "        round(spark_sum(\"total_amount\"), 2).alias(\"faturamento_total\"),\n",
    "        round(avg(\"total_amount\"), 2).alias(\"ticket_medio\"),\n",
    "        round(avg(\"tip_amount\"), 2).alias(\"gorjeta_media\"),\n",
    "        round(avg(\"trip_distance\"), 2).alias(\"distancia_media_km\"),\n",
    "        round(avg(\"passenger_count\"), 2).alias(\"passageiros_media\")\n",
    "    )\n",
    ")\n",
    "\n",
    "df_gold_pu_location.write.mode(\"overwrite\").saveAsTable(\"tlc_trip.ouro.taxi_metrics_by_pulocation\")\n",
    "\n",
    "# Insight 1: Top 5 dias com maior faturamento\n",
    "#            Identifica quais dias geraram maior receita para avaliar sazonalidade, feriados ou eventos especiais.\n",
    "\n",
    "print(\"Top 5 dias com maior faturamento:\")\n",
    "df_gold_daily.orderBy(col(\"faturamento_total\").desc()).show(5)\n",
    "\n",
    "# Insight 2: Locais de partida com maior número de corridas\n",
    "#            Mapeia os pontos de partida mais movimentados, útil para posicionar veículos e melhorar logística.\n",
    "\n",
    "print(\"Top 5 locais de partida (PULocationID) com mais corridas:\")\n",
    "df_gold_pu_location.orderBy(col(\"total_corridas\").desc()).show(5)\n",
    "\n",
    "# Insight 3: Relação entre distância média e gorjeta média por local de partida\n",
    "#            Explora se corridas mais longas tendem a ter gorjetas maiores, o que pode ajudar a planejar incentivos para motoristas.\n",
    "\n",
    "print(\"Locais de partida com maior distância média e gorjeta média:\")\n",
    "df_gold_pu_location.orderBy(col(\"distancia_media_km\").desc(), col(\"gorjeta_media\").desc()).show(5)\n",
    "\n"
   ]
  }
 ],
 "metadata": {
  "application/vnd.databricks.v1+notebook": {
   "computePreferences": null,
   "dashboards": [],
   "environmentMetadata": {
    "base_environment": "",
    "environment_version": "2"
   },
   "inputWidgetPreferences": null,
   "language": "python",
   "notebookMetadata": {
    "pythonIndentUnit": 4
   },
   "notebookName": "our_yellow_taxi_trip",
   "widgets": {}
  },
  "language_info": {
   "name": "python"
  }
 },
 "nbformat": 4,
 "nbformat_minor": 0
}